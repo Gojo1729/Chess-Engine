{
 "cells": [
  {
   "cell_type": "code",
   "execution_count": 1,
   "id": "3d1c896b",
   "metadata": {},
   "outputs": [],
   "source": [
    "from typing import Tuple"
   ]
  },
  {
   "cell_type": "code",
   "execution_count": 3,
   "id": "3841090d",
   "metadata": {},
   "outputs": [],
   "source": [
    "class Board:\n",
    "    def __init__(self, square_colors: tuple[str,str]):\n",
    "        self.sq_colors = square_colors"
   ]
  },
  {
   "cell_type": "code",
   "execution_count": 4,
   "id": "677ad8f4",
   "metadata": {},
   "outputs": [],
   "source": [
    "board = Board((\"#12\",\"#1212\"))"
   ]
  },
  {
   "cell_type": "code",
   "execution_count": 7,
   "id": "a8527cff",
   "metadata": {},
   "outputs": [],
   "source": [
    "a = 2 if 2%2 ==0 else 3"
   ]
  },
  {
   "cell_type": "code",
   "execution_count": 8,
   "id": "d8cf225f",
   "metadata": {},
   "outputs": [
    {
     "data": {
      "text/plain": [
       "'a-h'"
      ]
     },
     "execution_count": 8,
     "metadata": {},
     "output_type": "execute_result"
    }
   ],
   "source": [
    "\"a-h\""
   ]
  },
  {
   "cell_type": "code",
   "execution_count": 9,
   "id": "831a4c75",
   "metadata": {},
   "outputs": [
    {
     "ename": "SyntaxError",
     "evalue": "invalid syntax (544457741.py, line 1)",
     "output_type": "error",
     "traceback": [
      "\u001b[1;36m  Cell \u001b[1;32mIn[9], line 1\u001b[1;36m\u001b[0m\n\u001b[1;33m    \"a\"..\"h\"\u001b[0m\n\u001b[1;37m        ^\u001b[0m\n\u001b[1;31mSyntaxError\u001b[0m\u001b[1;31m:\u001b[0m invalid syntax\n"
     ]
    }
   ],
   "source": [
    "\"a\"..\"h\""
   ]
  },
  {
   "cell_type": "code",
   "execution_count": 11,
   "id": "c0efd3df",
   "metadata": {},
   "outputs": [],
   "source": [
    "b = {\"a\":10}"
   ]
  },
  {
   "cell_type": "code",
   "execution_count": 14,
   "id": "144d0fe2",
   "metadata": {},
   "outputs": [
    {
     "name": "stdout",
     "output_type": "stream",
     "text": [
      "10\n"
     ]
    }
   ],
   "source": [
    "for f in b.values():\n",
    "    print(f)"
   ]
  },
  {
   "cell_type": "code",
   "execution_count": null,
   "id": "891fe08f",
   "metadata": {},
   "outputs": [],
   "source": []
  }
 ],
 "metadata": {
  "kernelspec": {
   "display_name": "Python 3 (ipykernel)",
   "language": "python",
   "name": "python3"
  },
  "language_info": {
   "codemirror_mode": {
    "name": "ipython",
    "version": 3
   },
   "file_extension": ".py",
   "mimetype": "text/x-python",
   "name": "python",
   "nbconvert_exporter": "python",
   "pygments_lexer": "ipython3",
   "version": "3.10.9"
  }
 },
 "nbformat": 4,
 "nbformat_minor": 5
}
